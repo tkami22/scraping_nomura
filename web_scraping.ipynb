{
  "nbformat": 4,
  "nbformat_minor": 0,
  "metadata": {
    "colab": {
      "provenance": [],
      "collapsed_sections": [
        "scilNJkjtiyr",
        "Hliqelfdtoz1"
      ],
      "authorship_tag": "ABX9TyMvQ5xmpaKEQ8vOPAj/JKbT",
      "include_colab_link": true
    },
    "kernelspec": {
      "name": "python3",
      "display_name": "Python 3"
    },
    "language_info": {
      "name": "python"
    }
  },
  "cells": [
    {
      "cell_type": "markdown",
      "metadata": {
        "id": "view-in-github",
        "colab_type": "text"
      },
      "source": [
        "<a href=\"https://colab.research.google.com/github/tkami22/scraping_nomura/blob/main/web_scraping.ipynb\" target=\"_parent\"><img src=\"https://colab.research.google.com/assets/colab-badge.svg\" alt=\"Open In Colab\"/></a>"
      ]
    },
    {
      "cell_type": "markdown",
      "source": [
        "# Googleドライブへのマウント"
      ],
      "metadata": {
        "id": "scilNJkjtiyr"
      }
    },
    {
      "cell_type": "code",
      "execution_count": null,
      "metadata": {
        "colab": {
          "base_uri": "https://localhost:8080/"
        },
        "id": "zXrqFKYWNAIa",
        "outputId": "fd767ab0-ee59-4c6a-c65b-18fd100a4f79"
      },
      "outputs": [
        {
          "output_type": "stream",
          "name": "stdout",
          "text": [
            "Drive already mounted at /content/drive; to attempt to forcibly remount, call drive.mount(\"/content/drive\", force_remount=True).\n",
            "/content/drive/MyDrive/Colab Notebooks\n"
          ]
        }
      ],
      "source": [
        "from google.colab import drive\n",
        "drive.mount('/content/drive')\n",
        "%cd \"/content/drive/MyDrive/Colab Notebooks\""
      ]
    },
    {
      "cell_type": "markdown",
      "source": [
        "# アクセス可否の確認"
      ],
      "metadata": {
        "id": "Hliqelfdtoz1"
      }
    },
    {
      "cell_type": "code",
      "source": [
        "# import urllib.robotparser\n",
        "\n",
        "# # robots.txtの読み取り\n",
        "# robots_txt_url = 'https://www.nomurakougei.co.jp/robots.txt'\n",
        "# rp = urllib.robotparser.RobotFileParser()\n",
        "# rp.set_url(robots_txt_url)\n",
        "# rp.read()\n",
        "\n",
        "# # robots.txtの情報から調査したいURL、User-Agentでクロール可能かを調べる\n",
        "# user_agent = '*'\n",
        "# url = 'https://www.nomurakougei.co.jp/achievements/*'\n",
        "# result = rp.can_fetch(user_agent, url)\n",
        "# print(result)"
      ],
      "metadata": {
        "colab": {
          "base_uri": "https://localhost:8080/"
        },
        "id": "AY8IDwlaNINZ",
        "outputId": "3b8cf9b2-6cc8-45c4-b713-2b094c974dc6"
      },
      "execution_count": null,
      "outputs": [
        {
          "output_type": "stream",
          "name": "stdout",
          "text": [
            "True\n"
          ]
        }
      ]
    },
    {
      "cell_type": "markdown",
      "source": [
        "# コード"
      ],
      "metadata": {
        "id": "2IITqqNiuKwW"
      }
    },
    {
      "cell_type": "markdown",
      "source": [
        "## 事前設定"
      ],
      "metadata": {
        "id": "UuvucknNQu2Z"
      }
    },
    {
      "cell_type": "code",
      "source": [
        "# 必要ライブラリのインポート\n",
        "import urllib\n",
        "from urllib.error import URLError\n",
        "from requests.models import HTTPError\n",
        "from bs4 import BeautifulSoup\n",
        "\n",
        "# デバッグ用\n",
        "import sys\n",
        "import pprint"
      ],
      "metadata": {
        "id": "h6eCW0CUOa7l"
      },
      "execution_count": null,
      "outputs": []
    },
    {
      "cell_type": "code",
      "source": [
        "# soupを作成する関数\n",
        "def MakeSoup(url, ua):\n",
        "  req = urllib.request.Request(url, headers={'User-Agent': ua})\n",
        "  try:\n",
        "    html = urllib.request.urlopen(req)\n",
        "  except HTTPError as e:\n",
        "    print('HTTPError')\n",
        "  except URLError as e:\n",
        "    print('URLError')\n",
        "  else:\n",
        "    if not html.geturl() == url:\n",
        "      print('Redirected')\n",
        "    else:\n",
        "      return BeautifulSoup(html, \"html.parser\")"
      ],
      "metadata": {
        "id": "q626M8UZNSPq"
      },
      "execution_count": null,
      "outputs": []
    },
    {
      "cell_type": "code",
      "source": [
        "# トップページURL\n",
        "url_root = 'https://www.nomurakougei.co.jp'\n",
        "# ユーザーエージェント\n",
        "ua = 'Mozilla/5.0 (Windows NT 10.0; Win64; x64) AppleWebKit/537.36 (KHTML, like Gecko) Chrome/107.0.0.0 Safari/537.36'"
      ],
      "metadata": {
        "id": "ODLE5LWQQDJ8"
      },
      "execution_count": null,
      "outputs": []
    },
    {
      "cell_type": "markdown",
      "source": [
        "## [すべての実績一覧](https://www.nomurakougei.co.jp/achievements/all)"
      ],
      "metadata": {
        "id": "nprns3adQfuI"
      }
    },
    {
      "cell_type": "code",
      "source": [
        "# すべての実績一覧 ページURLを全て取得する関数\n",
        "def Get_AchievementsAll_PageUrl_list(url_root):\n",
        "  url_achievementsAll = url_root + '/achievements/all'\n",
        "  url_achievementsPages_list = []\n",
        "  i = 1\n",
        "  while True:\n",
        "    i_url_achievements = url_achievementsAll + f'?page={i}'\n",
        "    i_soup_achievements = MakeSoup(i_url_achievements, ua)\n",
        "    if not i_soup_achievements is None:\n",
        "      url_achievementsPages_list.append(i_url_achievements)\n",
        "      i += 1\n",
        "    else:\n",
        "      break\n",
        "  return url_achievementsPages_list"
      ],
      "metadata": {
        "id": "9xvCJH42cVqN"
      },
      "execution_count": null,
      "outputs": []
    },
    {
      "cell_type": "code",
      "source": [
        "# ページリンクを取得\n",
        "url_achievementsPages_list = Get_AchievementsAll_PageUrl_list(url_root)\n",
        "# 個別実績タイトル、リンクを全て取得\n",
        "title_achievement_list = []\n",
        "url_achievement_list = []\n",
        "for page_num, url_achievementsPage in enumerate(url_achievementsPages_list):\n",
        "  soup_achievementsPage = MakeSoup(url_achievementsPage, ua)\n",
        "  ul_a_list = soup_achievementsPage.article.find('ul', {\"class\": \"wall col-3\"}).find_all(\"a\")\n",
        "  for i_ul_a in ul_a_list:\n",
        "    i_ul_title = i_ul_a.get('title')\n",
        "    i_ul_href = i_ul_a.get('href')\n",
        "    title_achievement_list.append(i_ul_title)\n",
        "    url_achievement_list.append(url_root + i_ul_href)"
      ],
      "metadata": {
        "colab": {
          "base_uri": "https://localhost:8080/"
        },
        "id": "ZeGp-ALcOm-F",
        "outputId": "2b62dea8-5844-40ff-d326-b80df0fa7a6d"
      },
      "execution_count": null,
      "outputs": [
        {
          "output_type": "stream",
          "name": "stdout",
          "text": [
            "Redirected\n"
          ]
        }
      ]
    },
    {
      "cell_type": "markdown",
      "source": [
        "## 個別実績"
      ],
      "metadata": {
        "id": "--i-mAbDhm2L"
      }
    },
    {
      "cell_type": "code",
      "source": [
        "# # 個別実績タイトル、リンクのリスト\n",
        "# title_achievement_list = []\n",
        "# url_achievement_list = []\n",
        "\n",
        "# 個別実績ページ\n",
        "for i, url_achievement in enumerate(url_achievement_list):\n",
        "  soup_achievement = MakeSoup(url_achievement, ua)\n",
        "\n",
        "  # キーワードの取得\n",
        "  tag_ul = soup_achievement.article.ul\n",
        "  # キーワード設定の有無を確認\n",
        "  keyword_achievement_list = []\n",
        "  if not tag_ul is None:\n",
        "    i_a_list = tag_ul.find_all(\"a\")\n",
        "    for j_a in i_a_list:\n",
        "      j_title = j_a.get('title')\n",
        "      keyword_achievement_list.append(j_title)\n",
        "\n",
        "  # 施工情報の取得\n",
        "  tag_dl = soup_achievement.article.find(\"dl\", {\"class\": \"list-b\"})\n",
        "  sys.exit()\n",
        "  # 施工情報設定の有無を確認\n",
        "  infoKey_achPage_list = []\n",
        "  infoValue_achPage_list = []\n",
        "  if not tag_dl is None:\n",
        "    i_list_dt = tag_dl.find_all(\"dt\")\n",
        "    i_list_dd = tag_dl.find_all(\"dd\")\n",
        "  "
      ],
      "metadata": {
        "colab": {
          "base_uri": "https://localhost:8080/",
          "height": 157
        },
        "id": "oW9Iv_ziP9D2",
        "outputId": "7df841f3-2fd5-4ec2-a50d-74cddfd85034"
      },
      "execution_count": null,
      "outputs": [
        {
          "output_type": "error",
          "ename": "SystemExit",
          "evalue": "ignored",
          "traceback": [
            "An exception has occurred, use %tb to see the full traceback.\n",
            "\u001b[0;31mSystemExit\u001b[0m\n"
          ]
        },
        {
          "output_type": "stream",
          "name": "stderr",
          "text": [
            "/usr/local/lib/python3.7/dist-packages/IPython/core/interactiveshell.py:3334: UserWarning: To exit: use 'exit', 'quit', or Ctrl-D.\n",
            "  warn(\"To exit: use 'exit', 'quit', or Ctrl-D.\", stacklevel=1)\n"
          ]
        }
      ]
    },
    {
      "cell_type": "markdown",
      "source": [
        "## テスト"
      ],
      "metadata": {
        "id": "sNdszhpvuPRq"
      }
    },
    {
      "cell_type": "code",
      "source": [
        "pprint.pprint(tag_dl)"
      ],
      "metadata": {
        "colab": {
          "base_uri": "https://localhost:8080/"
        },
        "id": "a5ak3WpchSNV",
        "outputId": "3edc2393-940d-4197-e221-18211338026f"
      },
      "execution_count": null,
      "outputs": [
        {
          "output_type": "stream",
          "name": "stdout",
          "text": [
            "<dl class=\"list-b\">\n",
            "<dt>\n",
            "                            オープン：\n",
            "                        <dd>\n",
            "                            2021年\n",
            "                        <dt>\n",
            "                            所在地：\n",
            "                        <dd>\n",
            "                            福岡県                        <dt>\n",
            "                            クライアント：\n",
            "                        <dd>\n",
            "                            九州三菱自動車販売株式会社様                                                <dt>\n",
            "                            業務内容：\n",
            "                        <dd>\n",
            "                            デザイン・設計、サイン・グラフィックデザイン、デザイン監修、内装監理、環境演出装置設計・制作、制作・内装施工                                                                        </dd></dt></dd></dt></dd></dt></dd></dt></dl>\n"
          ]
        }
      ]
    },
    {
      "cell_type": "code",
      "source": [
        "print(tag_ul)"
      ],
      "metadata": {
        "colab": {
          "base_uri": "https://localhost:8080/"
        },
        "id": "w9Eg1s0tmNRk",
        "outputId": "a292818f-f478-4083-fa68-55f93a0ee925"
      },
      "execution_count": null,
      "outputs": [
        {
          "output_type": "stream",
          "name": "stdout",
          "text": [
            "<ul>\n",
            "<li>\n",
            "<a class=\"link link-c\" href=\"/achievements/tag/デジタル\" title=\"デジタル\">デジタル</a>\n",
            "<li>\n",
            "<a class=\"link link-c\" href=\"/achievements/tag/ワークプレイス\" title=\"ワークプレイス\">ワークプレイス</a>\n",
            "<li>\n",
            "<a class=\"link link-c\" href=\"/achievements/tag/SDGs\" title=\"SDGs\">SDGs</a>\n",
            "</li></li></li></ul>\n"
          ]
        }
      ]
    },
    {
      "cell_type": "code",
      "source": [
        "print(soup_achievement.article.find_all(\"dd\"))"
      ],
      "metadata": {
        "colab": {
          "base_uri": "https://localhost:8080/"
        },
        "id": "UvSaQKFYXK7A",
        "outputId": "5f2edbf0-a46e-4787-f17c-acc6f7de0487"
      },
      "execution_count": null,
      "outputs": [
        {
          "output_type": "stream",
          "name": "stdout",
          "text": [
            "[<dd>\n",
            "                            2021年\n",
            "                        <dt>\n",
            "                            所在地：\n",
            "                        <dd>\n",
            "                            福岡県                        <dt>\n",
            "                            クライアント：\n",
            "                        <dd>\n",
            "                            九州三菱自動車販売株式会社様                                                <dt>\n",
            "                            業務内容：\n",
            "                        <dd>\n",
            "                            デザイン・設計、サイン・グラフィックデザイン、デザイン監修、内装監理、環境演出装置設計・制作、制作・内装施工                                                                        </dd></dt></dd></dt></dd></dt></dd>, <dd>\n",
            "                            福岡県                        <dt>\n",
            "                            クライアント：\n",
            "                        <dd>\n",
            "                            九州三菱自動車販売株式会社様                                                <dt>\n",
            "                            業務内容：\n",
            "                        <dd>\n",
            "                            デザイン・設計、サイン・グラフィックデザイン、デザイン監修、内装監理、環境演出装置設計・制作、制作・内装施工                                                                        </dd></dt></dd></dt></dd>, <dd>\n",
            "                            九州三菱自動車販売株式会社様                                                <dt>\n",
            "                            業務内容：\n",
            "                        <dd>\n",
            "                            デザイン・設計、サイン・グラフィックデザイン、デザイン監修、内装監理、環境演出装置設計・制作、制作・内装施工                                                                        </dd></dt></dd>, <dd>\n",
            "                            デザイン・設計、サイン・グラフィックデザイン、デザイン監修、内装監理、環境演出装置設計・制作、制作・内装施工                                                                        </dd>]\n"
          ]
        }
      ]
    }
  ]
}