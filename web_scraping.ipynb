{
  "nbformat": 4,
  "nbformat_minor": 0,
  "metadata": {
    "colab": {
      "provenance": [],
      "collapsed_sections": [
        "scilNJkjtiyr",
        "Hliqelfdtoz1"
      ],
      "include_colab_link": true
    },
    "kernelspec": {
      "name": "python3",
      "display_name": "Python 3"
    },
    "language_info": {
      "name": "python"
    }
  },
  "cells": [
    {
      "cell_type": "markdown",
      "metadata": {
        "id": "view-in-github",
        "colab_type": "text"
      },
      "source": [
        "<a href=\"https://colab.research.google.com/github/tkami22/scraping_test/blob/main/web_scraping.ipynb\" target=\"_parent\"><img src=\"https://colab.research.google.com/assets/colab-badge.svg\" alt=\"Open In Colab\"/></a>"
      ]
    },
    {
      "cell_type": "markdown",
      "source": [
        "# Googleドライブへのマウント"
      ],
      "metadata": {
        "id": "scilNJkjtiyr"
      }
    },
    {
      "cell_type": "code",
      "execution_count": null,
      "metadata": {
        "colab": {
          "base_uri": "https://localhost:8080/"
        },
        "id": "zXrqFKYWNAIa",
        "outputId": "fd767ab0-ee59-4c6a-c65b-18fd100a4f79"
      },
      "outputs": [
        {
          "output_type": "stream",
          "name": "stdout",
          "text": [
            "Drive already mounted at /content/drive; to attempt to forcibly remount, call drive.mount(\"/content/drive\", force_remount=True).\n",
            "/content/drive/MyDrive/Colab Notebooks\n"
          ]
        }
      ],
      "source": [
        "from google.colab import drive\n",
        "drive.mount('/content/drive')\n",
        "%cd \"/content/drive/MyDrive/Colab Notebooks\""
      ]
    },
    {
      "cell_type": "markdown",
      "source": [
        "# アクセス可否の確認"
      ],
      "metadata": {
        "id": "Hliqelfdtoz1"
      }
    },
    {
      "cell_type": "code",
      "source": [
        "# import urllib.robotparser\n",
        "\n",
        "# # robots.txtの読み取り\n",
        "# robots_txt_url = 'https://www.nomurakougei.co.jp/robots.txt'\n",
        "# rp = urllib.robotparser.RobotFileParser()\n",
        "# rp.set_url(robots_txt_url)\n",
        "# rp.read()\n",
        "\n",
        "# # robots.txtの情報から調査したいURL、User-Agentでクロール可能かを調べる\n",
        "# user_agent = '*'\n",
        "# url = 'https://www.nomurakougei.co.jp/achievements/*'\n",
        "# result = rp.can_fetch(user_agent, url)\n",
        "# print(result)"
      ],
      "metadata": {
        "colab": {
          "base_uri": "https://localhost:8080/"
        },
        "id": "AY8IDwlaNINZ",
        "outputId": "3b8cf9b2-6cc8-45c4-b713-2b094c974dc6"
      },
      "execution_count": null,
      "outputs": [
        {
          "output_type": "stream",
          "name": "stdout",
          "text": [
            "True\n"
          ]
        }
      ]
    },
    {
      "cell_type": "markdown",
      "source": [
        "# コード"
      ],
      "metadata": {
        "id": "2IITqqNiuKwW"
      }
    },
    {
      "cell_type": "markdown",
      "source": [
        "## 事前設定"
      ],
      "metadata": {
        "id": "UuvucknNQu2Z"
      }
    },
    {
      "cell_type": "code",
      "source": [
        "# 必要ライブラリのインポート\n",
        "import urllib\n",
        "from urllib.error import URLError\n",
        "from requests.models import HTTPError\n",
        "from bs4 import BeautifulSoup\n",
        "\n",
        "# デバッグ用\n",
        "import sys\n",
        "import pprint"
      ],
      "metadata": {
        "id": "h6eCW0CUOa7l"
      },
      "execution_count": 55,
      "outputs": []
    },
    {
      "cell_type": "code",
      "source": [
        "# soupを作成する関数\n",
        "def MakeSoup(url, ua):\n",
        "  req = urllib.request.Request(url, headers={'User-Agent': ua})\n",
        "  try:\n",
        "    html = urllib.request.urlopen(req)\n",
        "  except HTTPError as e:\n",
        "    print('HTTPError')\n",
        "  except URLError as e:\n",
        "    print('URLError')\n",
        "  else:\n",
        "    if not html.geturl() == url:\n",
        "      print('Redirected')\n",
        "    else:\n",
        "      return BeautifulSoup(html, \"html.parser\")"
      ],
      "metadata": {
        "id": "q626M8UZNSPq"
      },
      "execution_count": 2,
      "outputs": []
    },
    {
      "cell_type": "code",
      "source": [
        "# トップページURL\n",
        "url_root = 'https://www.nomurakougei.co.jp'\n",
        "# ユーザーエージェント\n",
        "ua = 'Mozilla/5.0 (Windows NT 10.0; Win64; x64) AppleWebKit/537.36 (KHTML, like Gecko) Chrome/107.0.0.0 Safari/537.36'"
      ],
      "metadata": {
        "id": "ODLE5LWQQDJ8"
      },
      "execution_count": 3,
      "outputs": []
    },
    {
      "cell_type": "markdown",
      "source": [
        "## [すべての実績一覧](https://www.nomurakougei.co.jp/achievements/all)"
      ],
      "metadata": {
        "id": "nprns3adQfuI"
      }
    },
    {
      "cell_type": "code",
      "source": [
        "# すべての実績一覧 ページURLを全て取得する関数\n",
        "def Get_AchievementsAll_PageUrl_list(url_root):\n",
        "  url_achievementsAll = url_root + '/achievements/all'\n",
        "  url_achievementsPages_list = []\n",
        "  i = 1\n",
        "  while True:\n",
        "    i_url_achievements = url_achievementsAll + f'?page={i}'\n",
        "    i_soup_achievements = MakeSoup(i_url_achievements, ua)\n",
        "    if not i_soup_achievements is None:\n",
        "      url_achievementsPages_list.append(i_url_achievements)\n",
        "      i += 1\n",
        "    else:\n",
        "      break\n",
        "  return url_achievementsPages_list"
      ],
      "metadata": {
        "id": "9xvCJH42cVqN"
      },
      "execution_count": 4,
      "outputs": []
    },
    {
      "cell_type": "code",
      "source": [
        "# ページリンクを取得\n",
        "url_achievementsPages_list = Get_AchievementsAll_PageUrl_list(url_root)\n",
        "# 個別実績タイトル、リンクを全て取得\n",
        "title_achievement_list = []\n",
        "url_achievement_list = []\n",
        "for page_num, url_achievementsPage in enumerate(url_achievementsPages_list):\n",
        "  soup_achievementsPage = MakeSoup(url_achievementsPage, ua)\n",
        "  ul_a_list = soup_achievementsPage.article.find('ul', {\"class\": \"wall col-3\"}).find_all(\"a\")\n",
        "  for i_ul_a in ul_a_list:\n",
        "    i_ul_title = i_ul_a.get('title')\n",
        "    i_ul_href = i_ul_a.get('href')\n",
        "    title_achievement_list.append(i_ul_title)\n",
        "    url_achievement_list.append(url_root + i_ul_href)"
      ],
      "metadata": {
        "colab": {
          "base_uri": "https://localhost:8080/"
        },
        "id": "ZeGp-ALcOm-F",
        "outputId": "36c603a2-9c04-426b-a97a-5c4132784b35"
      },
      "execution_count": 5,
      "outputs": [
        {
          "output_type": "stream",
          "name": "stdout",
          "text": [
            "Redirected\n"
          ]
        }
      ]
    },
    {
      "cell_type": "markdown",
      "source": [
        "## 個別実績"
      ],
      "metadata": {
        "id": "--i-mAbDhm2L"
      }
    },
    {
      "cell_type": "code",
      "source": [
        "# # 個別実績タイトル、リンクのリスト\n",
        "# title_achievement_list = []\n",
        "# url_achievement_list = []\n",
        "\n",
        "# 個別実績ページ\n",
        "for i, url_achievement in enumerate(url_achievement_list):\n",
        "  soup_achievement = MakeSoup(url_achievement, ua)\n",
        "\n",
        "  # キーワードの取得\n",
        "  tag_ul = soup_achievement.article.ul\n",
        "  # キーワード設定の有無を確認\n",
        "  keyword_achievement_list = []\n",
        "  if not tag_ul is None:\n",
        "    i_a_list = tag_ul.find_all(\"a\")\n",
        "    for j_a in i_a_list:\n",
        "      j_title = j_a.get('title')\n",
        "      keyword_achievement_list.append(j_title)\n",
        "\n",
        "  \"\"\"\n",
        "  施工情報については\"dl\"タグ内の、\"dd\"タグにタイトル、\"dt\"に施工データ が書かれているが、\n",
        "  全ての閉じタグが最後にまとめて記述されているため、BeautifulSoupのメソッドでは対処できない\n",
        "  そこで、文字列に変換してから区切ることで該当情報を抽出する\n",
        "  \"\"\"\n",
        "  # 施工情報の取得\n",
        "  tag_dl = soup_achievement.article.find(\"dl\", {\"class\": \"list-b\"})\n",
        "  # 施工情報設定の有無を確認\n",
        "  infoKey_achPage_list = []\n",
        "  infoValue_achPage_list = []\n",
        "  if not tag_dl is None:\n",
        "    # タイトルの取得\n",
        "    i_list_dt = tag_dl.find_all(\"dt\")\n",
        "    i_title_list = []\n",
        "    for j_list_dt in i_list_dt:\n",
        "      # 文字列化し、先頭の不要な文字列(改行、空白等)を削除\n",
        "      j_list_dt_text = j_list_dt.text.lstrip()\n",
        "      # 区切り文字(\"：\")の位置を探し、それ以前の文字列を取得する\n",
        "      j_dt_delimiter = j_list_dt_text.find(\"：\")\n",
        "      j_title = j_list_dt_text[: j_dt_delimiter]\n",
        "      i_title_list.append(j_title)\n",
        "\n",
        "    # 施工データのリスト取得\n",
        "    i_list_dd = tag_dl.find_all(\"dd\")\n",
        "    i_data_list = []\n",
        "    for j_list_dd in i_list_dd:\n",
        "      # 文字列化し、先頭の不要な文字列(改行、空白等)を削除\n",
        "      j_list_dd_text = j_list_dd.text.lstrip()\n",
        "      # 区切り文字(\"\\n\")の位置を探し、それ以前の文字列を取得する\n",
        "      j_dd_delimiter = j_list_dd_text.find(\"\\n\")\n",
        "      j_data = j_list_dd_text[: j_dd_delimiter]\n",
        "      # 末尾の不要な文字列を削除する\n",
        "      j_data = j_data.rstrip()\n",
        "      i_data_list.append(j_data)\n",
        "    sys.exit()\n"
      ],
      "metadata": {
        "colab": {
          "base_uri": "https://localhost:8080/",
          "height": 118
        },
        "id": "oW9Iv_ziP9D2",
        "outputId": "d27dd1d5-221d-4b59-9343-816e9eb49de5"
      },
      "execution_count": 69,
      "outputs": [
        {
          "output_type": "error",
          "ename": "SystemExit",
          "evalue": "ignored",
          "traceback": [
            "An exception has occurred, use %tb to see the full traceback.\n",
            "\u001b[0;31mSystemExit\u001b[0m\n"
          ]
        }
      ]
    },
    {
      "cell_type": "markdown",
      "source": [
        "## テスト"
      ],
      "metadata": {
        "id": "sNdszhpvuPRq"
      }
    },
    {
      "cell_type": "code",
      "source": [
        "t0 = tag_dl.find_all(\"dd\")[2].text\n",
        "t1 = t0.lstrip()\n",
        "t2 = t1.find(\"\\n\")\n",
        "t3 = t1[:t2]\n",
        "\n",
        "print(t3.rstrip())"
      ],
      "metadata": {
        "colab": {
          "base_uri": "https://localhost:8080/"
        },
        "id": "a5ak3WpchSNV",
        "outputId": "2a86568e-787b-46ae-f2da-4dd2316b22c4"
      },
      "execution_count": 61,
      "outputs": [
        {
          "output_type": "stream",
          "name": "stdout",
          "text": [
            "九州三菱自動車販売株式会社様\n"
          ]
        }
      ]
    },
    {
      "cell_type": "code",
      "source": [
        "print(i_list_dd)"
      ],
      "metadata": {
        "colab": {
          "base_uri": "https://localhost:8080/"
        },
        "id": "w9Eg1s0tmNRk",
        "outputId": "00462923-31c5-402e-8fc1-4428433e4762"
      },
      "execution_count": 75,
      "outputs": [
        {
          "output_type": "stream",
          "name": "stdout",
          "text": [
            "[<dd>\n",
            "                            2021年\n",
            "                        <dt>\n",
            "                            所在地：\n",
            "                        <dd>\n",
            "                            福岡県                        <dt>\n",
            "                            クライアント：\n",
            "                        <dd>\n",
            "                            九州三菱自動車販売株式会社様                                                <dt>\n",
            "                            業務内容：\n",
            "                        <dd>\n",
            "                            デザイン・設計、サイン・グラフィックデザイン、デザイン監修、内装監理、環境演出装置設計・制作、制作・内装施工                                                                        </dd></dt></dd></dt></dd></dt></dd>, <dd>\n",
            "                            福岡県                        <dt>\n",
            "                            クライアント：\n",
            "                        <dd>\n",
            "                            九州三菱自動車販売株式会社様                                                <dt>\n",
            "                            業務内容：\n",
            "                        <dd>\n",
            "                            デザイン・設計、サイン・グラフィックデザイン、デザイン監修、内装監理、環境演出装置設計・制作、制作・内装施工                                                                        </dd></dt></dd></dt></dd>, <dd>\n",
            "                            九州三菱自動車販売株式会社様                                                <dt>\n",
            "                            業務内容：\n",
            "                        <dd>\n",
            "                            デザイン・設計、サイン・グラフィックデザイン、デザイン監修、内装監理、環境演出装置設計・制作、制作・内装施工                                                                        </dd></dt></dd>, <dd>\n",
            "                            デザイン・設計、サイン・グラフィックデザイン、デザイン監修、内装監理、環境演出装置設計・制作、制作・内装施工                                                                        </dd>]\n"
          ]
        }
      ]
    },
    {
      "cell_type": "code",
      "source": [
        "pprint.pprint(i_data_list)"
      ],
      "metadata": {
        "colab": {
          "base_uri": "https://localhost:8080/"
        },
        "id": "UvSaQKFYXK7A",
        "outputId": "bfe6687e-e284-4126-cb46-03309a2ce168"
      },
      "execution_count": 57,
      "outputs": [
        {
          "output_type": "stream",
          "name": "stdout",
          "text": [
            "['2021年',\n",
            " '福岡県                        ',\n",
            " '九州三菱自動車販売株式会社様                                                ',\n",
            " 'デザイン・設計、サイン・グラフィックデザイン、デザイン監修、内装監理、環境演出装置設計・制作、制作・内装施']\n"
          ]
        }
      ]
    }
  ]
}